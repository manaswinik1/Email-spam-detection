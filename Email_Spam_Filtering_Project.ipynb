{
  "nbformat": 4,
  "nbformat_minor": 0,
  "metadata": {
    "colab": {
      "provenance": []
    },
    "kernelspec": {
      "name": "python3",
      "display_name": "Python 3"
    },
    "language_info": {
      "name": "python"
    }
  },
  "cells": [
    {
      "cell_type": "code",
      "execution_count": null,
      "metadata": {
        "id": "9vlhCSjoeUK1"
      },
      "outputs": [],
      "source": [
        "import pandas as pd\n",
        "import numpy as np\n",
        "import re\n",
        "from nltk.stem import PorterStemmer\n",
        "from sklearn.feature_extraction.text import TfidfVectorizer\n",
        "from sklearn.model_selection import train_test_split\n",
        "from sklearn.svm import SVC\n",
        "from sklearn.metrics import confusion_matrix, classification_report, accuracy_score\n",
        "\n"
      ]
    },
    {
      "cell_type": "code",
      "source": [
        "# Load the dataset\n",
        "file_path = 'spam_ham_dataset.csv'\n",
        "data = pd.read_csv(file_path)\n",
        "\n",
        "# Preprocessing function\n",
        "def preprocess(text):\n",
        "    # Convert to lowercase\n",
        "    text = text.lower()\n",
        "\n",
        "    # Remove numbers and punctuation\n",
        "    text = re.sub('[^a-zA-Z]', ' ', text)\n",
        "\n",
        "    # Tokenize - split the text into words\n",
        "    text = text.split()\n",
        "\n",
        "    # Stemming - reducing words to their root form\n",
        "    ps = PorterStemmer()\n",
        "    text = [ps.stem(word) for word in text]\n",
        "\n",
        "    # Join the words back into one string\n",
        "    text = ' '.join(text)\n",
        "    return text"
      ],
      "metadata": {
        "id": "fTKTJCK4r5-V"
      },
      "execution_count": null,
      "outputs": []
    },
    {
      "cell_type": "code",
      "source": [
        "# Apply preprocessing to the email texts\n",
        "data['processed_text'] = data['text'].apply(preprocess)"
      ],
      "metadata": {
        "id": "iK6YL8l_sAgJ"
      },
      "execution_count": null,
      "outputs": []
    },
    {
      "cell_type": "code",
      "source": [
        "# Feature Extraction with TF-IDF\n",
        "# TF-IDF converts text to a meaningful representation of numbers\n",
        "tfidfconverter = TfidfVectorizer(max_features=1500, min_df=5, max_df=0.7)\n",
        "X = tfidfconverter.fit_transform(data['processed_text']).toarray()\n",
        "\n",
        "# Defining the target variable (spam or ham)\n",
        "y = data['label_num']\n"
      ],
      "metadata": {
        "id": "YvmfSoZcsHWN"
      },
      "execution_count": null,
      "outputs": []
    },
    {
      "cell_type": "code",
      "source": [
        "#Splitting the dataset into training and test sets\n",
        "# This allows us to train on part of the data and test on unseen data\n",
        "X_train, X_test, y_train, y_test = train_test_split(X, y, test_size=0.2, random_state=0)\n"
      ],
      "metadata": {
        "id": "KV9Bv1VVsOY5"
      },
      "execution_count": null,
      "outputs": []
    },
    {
      "cell_type": "code",
      "source": [
        "# Training the SVM model\n",
        "# SVM is chosen for its effectiveness in high-dimensional spaces (like text)\n",
        "svm_classifier = SVC(kernel='linear')\n",
        "svm_classifier.fit(X_train, y_train)\n",
        "\n",
        "# Making predictions on the test set\n",
        "y_pred = svm_classifier.predict(X_test)\n"
      ],
      "metadata": {
        "id": "ma_78tiPsTFz"
      },
      "execution_count": null,
      "outputs": []
    },
    {
      "cell_type": "code",
      "source": [
        "#Evaluating the model\n",
        "# Confusion matrix shows the model's performance with actual vs predicted values\n",
        "conf_matrix = confusion_matrix(y_test, y_pred)\n",
        "\n",
        "# Classification report gives a detailed performance analysis by class\n",
        "class_report = classification_report(y_test, y_pred)\n",
        "\n",
        "# Overall accuracy of the model\n",
        "accuracy = accuracy_score(y_test, y_pred)\n",
        "\n",
        "print(\"Confusion Matrix:\\n\", conf_matrix)\n",
        "print(\"\\nClassification Report:\\n\", class_report)\n",
        "print(\"\\nAccuracy: {:.2f}%\".format(accuracy * 100))"
      ],
      "metadata": {
        "colab": {
          "base_uri": "https://localhost:8080/"
        },
        "id": "aXIbTP-ZsX-J",
        "outputId": "665f11f0-e566-49bc-f26a-c11b9158a0f5"
      },
      "execution_count": null,
      "outputs": [
        {
          "output_type": "stream",
          "name": "stdout",
          "text": [
            "Confusion Matrix:\n",
            " [[717  15]\n",
            " [  8 295]]\n",
            "\n",
            "Classification Report:\n",
            "               precision    recall  f1-score   support\n",
            "\n",
            "           0       0.99      0.98      0.98       732\n",
            "           1       0.95      0.97      0.96       303\n",
            "\n",
            "    accuracy                           0.98      1035\n",
            "   macro avg       0.97      0.98      0.97      1035\n",
            "weighted avg       0.98      0.98      0.98      1035\n",
            "\n",
            "\n",
            "Accuracy: 97.78%\n"
          ]
        }
      ]
    }
  ]
}